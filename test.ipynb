{
 "cells": [
  {
   "cell_type": "markdown",
   "id": "5c66c62a",
   "metadata": {},
   "source": [
    "**导入相关模块**"
   ]
  },
  {
   "cell_type": "code",
   "execution_count": 1,
   "id": "850c2ac3",
   "metadata": {},
   "outputs": [],
   "source": [
    "import pandas as pd\n",
    "import sklearn.model_selection as skmodel\n",
    "import numpy as np\n",
    "from sklearn.preprocessing import MinMaxScaler\n",
    "import tensorflow as tf\n",
    "from tensorflow import keras\n",
    "from keras import models\n",
    "from keras.models import load_model"
   ]
  },
  {
   "cell_type": "markdown",
   "id": "50f6ef01",
   "metadata": {},
   "source": [
    "**加载数据**"
   ]
  },
  {
   "cell_type": "code",
   "execution_count": 2,
   "id": "ec025bc6",
   "metadata": {},
   "outputs": [
    {
     "name": "stderr",
     "output_type": "stream",
     "text": [
      "C:\\Users\\Bunny\\AppData\\Local\\Temp/ipykernel_19832/1730559341.py:10: UserWarning: Pandas doesn't allow columns to be created via a new attribute name - see https://pandas.pydata.org/pandas-docs/stable/indexing.html#attribute-access\n",
      "  pain_data.data=np.hstack((PLT,CA125,Neutrophile,Neutrophile_Percentage,Lymphocyte,Lymphocyte_Percentage,Albumin))\n"
     ]
    }
   ],
   "source": [
    "excel_path='./二分类问题.xlsx'\n",
    "pain_data = pd.read_excel(excel_path,usecols=[1,2,3,4,5,6,7,8]) \n",
    "PLT=pain_data.values[:,1].reshape(215,1)\n",
    "CA125=pain_data.values[:,2].reshape(215,1)\n",
    "Neutrophile=pain_data.values[:,3].reshape(215,1)\n",
    "Neutrophile_Percentage=pain_data.values[:,4].reshape(215,1)\n",
    "Lymphocyte=pain_data.values[:,5].reshape(215,1)\n",
    "Lymphocyte_Percentage=pain_data.values[:,6].reshape(215,1)\n",
    "Albumin=pain_data.values[:,7].reshape(215,1)\n",
    "pain_data.data=np.hstack((PLT,CA125,Neutrophile,Neutrophile_Percentage,Lymphocyte,Lymphocyte_Percentage,Albumin))\n",
    "std=MinMaxScaler()\n",
    "std.fit(pain_data.data)\n",
    "pain_data_minmax=std.transform(pain_data.data)"
   ]
  },
  {
   "cell_type": "markdown",
   "id": "350995a9",
   "metadata": {},
   "source": [
    "**随机抽取50%的数据进行测试**"
   ]
  },
  {
   "cell_type": "code",
   "execution_count": 3,
   "id": "7781840c",
   "metadata": {},
   "outputs": [],
   "source": [
    "_ ,x_test, _ ,y_test = skmodel.train_test_split(pain_data_minmax, pain_data.CLASS,test_size=0.5)"
   ]
  },
  {
   "cell_type": "markdown",
   "id": "961d4ff7",
   "metadata": {},
   "source": [
    "**测试数据的大小**"
   ]
  },
  {
   "cell_type": "code",
   "execution_count": 4,
   "id": "10725d9c",
   "metadata": {},
   "outputs": [
    {
     "data": {
      "text/plain": [
       "(108, 7)"
      ]
     },
     "execution_count": 4,
     "metadata": {},
     "output_type": "execute_result"
    }
   ],
   "source": [
    "x_test.shape"
   ]
  },
  {
   "cell_type": "markdown",
   "id": "48cc6b84",
   "metadata": {},
   "source": [
    "**评价指标**"
   ]
  },
  {
   "cell_type": "code",
   "execution_count": 5,
   "id": "dfacf2ed",
   "metadata": {},
   "outputs": [],
   "source": [
    "#精确率评价指标\n",
    "def metric_precision(y_true,y_pred): \n",
    "    TP=tf.reduce_sum(y_true*tf.round(y_pred))\n",
    "    TN=tf.reduce_sum((1-y_true)*(1-tf.round(y_pred)))\n",
    "    FP=tf.reduce_sum((1-y_true)*tf.round(y_pred))\n",
    "    FN=tf.reduce_sum(y_true*(1-tf.round(y_pred)))\n",
    "    precision=TP/(TP+FP)\n",
    "    return precision\n",
    "#召回率评价指标\n",
    "def metric_recall(y_true,y_pred): \n",
    "    TP=tf.reduce_sum(y_true*tf.round(y_pred))\n",
    "    TN=tf.reduce_sum((1-y_true)*(1-tf.round(y_pred)))\n",
    "    FP=tf.reduce_sum((1-y_true)*tf.round(y_pred))\n",
    "    FN=tf.reduce_sum(y_true*(1-tf.round(y_pred)))\n",
    "    recall=TP/(TP+FN)\n",
    "    return recall\n",
    "\n",
    "#特异性评价指标\n",
    "def metric_specificity(y_true,y_pred): \n",
    "    TN=tf.reduce_sum((1-y_true)*(1-tf.round(y_pred)))\n",
    "    FP=tf.reduce_sum((1-y_true)*tf.round(y_pred))\n",
    "    specificity=TN/(TN+FP)\n",
    "    return specificity\n",
    "\n",
    "#F1-score评价指标\n",
    "def metric_F1score(y_true,y_pred): \n",
    "    TP=tf.reduce_sum(y_true*tf.round(y_pred))\n",
    "    TN=tf.reduce_sum((1-y_true)*(1-tf.round(y_pred)))\n",
    "    FP=tf.reduce_sum((1-y_true)*tf.round(y_pred))\n",
    "    FN=tf.reduce_sum(y_true*(1-tf.round(y_pred)))\n",
    "    precision=TP/(TP+FP)\n",
    "    recall=TP/(TP+FN)\n",
    "    F1score=2*precision*recall/(precision+recall)\n",
    "    return F1score"
   ]
  },
  {
   "cell_type": "markdown",
   "id": "4505cb95",
   "metadata": {},
   "source": [
    "**加载已经训练好的模型**"
   ]
  },
  {
   "cell_type": "code",
   "execution_count": 6,
   "id": "74dd8009",
   "metadata": {},
   "outputs": [],
   "source": [
    "my_model = load_model('my_model_80%.h5',compile = False)\n",
    "my_model.compile(optimizer='rmsprop',\n",
    "              loss='binary_crossentropy',\n",
    "              metrics=['accuracy',\n",
    "            metric_precision,\n",
    "            metric_recall,\n",
    "            metric_specificity,\n",
    "            metric_F1score])"
   ]
  },
  {
   "cell_type": "markdown",
   "id": "71d7603c",
   "metadata": {},
   "source": [
    "**随机测试8次的测试结果**"
   ]
  },
  {
   "cell_type": "code",
   "execution_count": 16,
   "id": "796730f2",
   "metadata": {},
   "outputs": [
    {
     "name": "stdout",
     "output_type": "stream",
     "text": [
      "4/4 [==============================] - 0s 2ms/step - loss: 0.4494 - accuracy: 0.9259 - metric_precision: 0.9542 - metric_recall: 0.8500 - metric_specificity: 0.9767 - metric_F1score: 0.8914\n",
      "4/4 [==============================] - 0s 2ms/step - loss: 0.2667 - accuracy: 0.9444 - metric_precision: 0.9217 - metric_recall: 0.8438 - metric_specificity: 0.9458 - metric_F1score: 0.8607\n",
      "4/4 [==============================] - 0s 1ms/step - loss: 1.0678 - accuracy: 0.9259 - metric_precision: 0.8712 - metric_recall: 0.9166 - metric_specificity: 0.9148 - metric_F1score: 0.8832\n",
      "4/4 [==============================] - 0s 1ms/step - loss: 0.8206 - accuracy: 0.9444 - metric_precision: 0.9129 - metric_recall: 0.9356 - metric_specificity: 0.9399 - metric_F1score: 0.9219\n",
      "4/4 [==============================] - 0s 1ms/step - loss: 1.2132 - accuracy: 0.9167 - metric_precision: 0.8341 - metric_recall: 0.8631 - metric_specificity: 0.9227 - metric_F1score: 0.8460\n",
      "4/4 [==============================] - 0s 1ms/step - loss: 0.8624 - accuracy: 0.9259 - metric_precision: 0.9083 - metric_recall: 0.9286 - metric_specificity: 0.9514 - metric_F1score: 0.9145\n",
      "4/4 [==============================] - 0s 2ms/step - loss: 1.2103 - accuracy: 0.9444 - metric_precision: 0.8844 - metric_recall: 0.9010 - metric_specificity: 0.9219 - metric_F1score: 0.8902\n",
      "4/4 [==============================] - 0s 2ms/step - loss: 1.0389 - accuracy: 0.9167 - metric_precision: 0.9125 - metric_recall: 0.8513 - metric_specificity: 0.9517 - metric_F1score: 0.8767\n"
     ]
    },
    {
     "data": {
      "image/png": "[encoded data removed]",
      "text/plain": [
       "<Figure size 432x288 with 1 Axes>"
      ]
     },
     "metadata": {
      "needs_background": "light"
     },
     "output_type": "display_data"
    }
   ],
   "source": [
    "import numpy as np\n",
    "from sklearn.metrics import roc_curve,auc\n",
    "import matplotlib.pyplot as plt\n",
    "plt.figure()\n",
    "plt.title('ROC CURVE ')\n",
    "plt.xlabel('False Positive Rate')\n",
    "plt.ylabel('True Positive Rate')\n",
    "plt.xlim([0.0,1.0])\n",
    "plt.ylim([0.0,1.0])\n",
    "plt.plot([0, 1], [0, 1], color='m', linestyle='--')\n",
    "for i in range(0,8):\n",
    "    _ ,x_test, _ ,y_test = skmodel.train_test_split(pain_data_minmax, pain_data.CLASS,test_size=0.5)\n",
    "    results = my_model.evaluate(x_test,y_test)\n",
    "    #ROC坐标点计算\n",
    "    \n",
    "    FPR,TPR,threshold=roc_curve(y_test,my_model.predict(x_test),pos_label=1)\n",
    "    #AUC值计算\n",
    "    AUC=auc(FPR,TPR)\n",
    "    #ROC曲线绘制\n",
    "    plt.plot(FPR,TPR,label='AUC={:.4f}'.format(AUC))\n",
    "    plt.legend()\n",
    "    \n",
    "plt.savefig('./pictures/ROC.jpg')"
   ]
  },
  {
   "cell_type": "code",
   "execution_count": 17,
   "id": "b158169b",
   "metadata": {},
   "outputs": [
    {
     "data": {
      "text/plain": [
       "array([0.        , 0.01428571, 0.01428571, 0.02857143, 0.02857143,\n",
       "       0.07142857, 0.07142857, 0.44285714, 0.44285714, 0.58571429,\n",
       "       0.58571429, 0.7       , 0.7       , 0.88571429, 0.88571429,\n",
       "       1.        ])"
      ]
     },
     "execution_count": 17,
     "metadata": {},
     "output_type": "execute_result"
    }
   ],
   "source": [
    "FPR"
   ]
  },
  {
   "cell_type": "code",
   "execution_count": 18,
   "id": "8c91a283",
   "metadata": {},
   "outputs": [
    {
     "data": {
      "text/plain": [
       "array([0.        , 0.31578947, 0.39473684, 0.39473684, 0.86842105,\n",
       "       0.86842105, 0.89473684, 0.89473684, 0.92105263, 0.92105263,\n",
       "       0.94736842, 0.94736842, 0.97368421, 0.97368421, 1.        ,\n",
       "       1.        ])"
      ]
     },
     "execution_count": 18,
     "metadata": {},
     "output_type": "execute_result"
    }
   ],
   "source": [
    "TPR"
   ]
  },
  {
   "cell_type": "code",
   "execution_count": null,
   "id": "4052ab8c",
   "metadata": {},
   "outputs": [],
   "source": []
  }
 ],
 "metadata": {
  "kernelspec": {
   "display_name": "Python 3 (ipykernel)",
   "language": "python",
   "name": "python3"
  },
  "language_info": {
   "codemirror_mode": {
    "name": "ipython",
    "version": 3
   },
   "file_extension": ".py",
   "mimetype": "text/x-python",
   "name": "python",
   "nbconvert_exporter": "python",
   "pygments_lexer": "ipython3",
   "version": "3.9.7"
  }
 },
 "nbformat": 4,
 "nbformat_minor": 5
}
