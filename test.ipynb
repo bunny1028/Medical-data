{
 "cells": [
  {
   "cell_type": "markdown",
   "id": "5c66c62a",
   "metadata": {},
   "source": [
    "**导入相关模块**"
   ]
  },
  {
   "cell_type": "code",
   "execution_count": 1,
   "id": "850c2ac3",
   "metadata": {},
   "outputs": [],
   "source": [
    "import pandas as pd\n",
    "import sklearn.model_selection as skmodel\n",
    "import numpy as np\n",
    "from sklearn.preprocessing import MinMaxScaler\n",
    "import tensorflow as tf\n",
    "from tensorflow import keras\n",
    "from keras import models\n",
    "from keras.models import load_model"
   ]
  },
  {
   "cell_type": "markdown",
   "id": "50f6ef01",
   "metadata": {},
   "source": [
    "**加载数据**"
   ]
  },
  {
   "cell_type": "code",
   "execution_count": 2,
   "id": "ec025bc6",
   "metadata": {},
   "outputs": [
    {
     "name": "stderr",
     "output_type": "stream",
     "text": [
      "C:\\Users\\Bunny\\AppData\\Local\\Temp/ipykernel_13900/3993951454.py:10: UserWarning: Pandas doesn't allow columns to be created via a new attribute name - see https://pandas.pydata.org/pandas-docs/stable/indexing.html#attribute-access\n",
      "  pain_data.data=np.hstack((PLT,CA125,ZXL,ZXLBFB,LB,LBBFB,BDB))\n"
     ]
    }
   ],
   "source": [
    "excel_path='./二分类问题.xlsx'\n",
    "pain_data = pd.read_excel(excel_path,usecols=[1,2,3,4,5,6,7,8]) \n",
    "PLT=pain_data.values[:,1].reshape(215,1)\n",
    "CA125=pain_data.values[:,2].reshape(215,1)\n",
    "ZXL=pain_data.values[:,3].reshape(215,1)\n",
    "ZXLBFB=pain_data.values[:,4].reshape(215,1)\n",
    "LB=pain_data.values[:,5].reshape(215,1)\n",
    "LBBFB=pain_data.values[:,6].reshape(215,1)\n",
    "BDB=pain_data.values[:,7].reshape(215,1)\n",
    "pain_data.data=np.hstack((PLT,CA125,ZXL,ZXLBFB,LB,LBBFB,BDB))\n",
    "std=MinMaxScaler()\n",
    "std.fit(pain_data.data)\n",
    "pain_data_minmax=std.transform(pain_data.data)"
   ]
  },
  {
   "cell_type": "markdown",
   "id": "350995a9",
   "metadata": {},
   "source": [
    "**随机抽取50%的数据进行测试**"
   ]
  },
  {
   "cell_type": "code",
   "execution_count": 3,
   "id": "7781840c",
   "metadata": {},
   "outputs": [],
   "source": [
    "_ ,x_test, _ ,y_test = skmodel.train_test_split(pain_data_minmax, pain_data.CLASS,test_size=0.5)"
   ]
  },
  {
   "cell_type": "markdown",
   "id": "961d4ff7",
   "metadata": {},
   "source": [
    "**测试数据的大小**"
   ]
  },
  {
   "cell_type": "code",
   "execution_count": 4,
   "id": "10725d9c",
   "metadata": {},
   "outputs": [
    {
     "data": {
      "text/plain": [
       "(108, 7)"
      ]
     },
     "execution_count": 4,
     "metadata": {},
     "output_type": "execute_result"
    }
   ],
   "source": [
    "x_test.shape"
   ]
  },
  {
   "cell_type": "markdown",
   "id": "48cc6b84",
   "metadata": {},
   "source": [
    "**评价指标**"
   ]
  },
  {
   "cell_type": "code",
   "execution_count": 5,
   "id": "dfacf2ed",
   "metadata": {},
   "outputs": [],
   "source": [
    "#精确率评价指标\n",
    "def metric_precision(y_true,y_pred): \n",
    "    TP=tf.reduce_sum(y_true*tf.round(y_pred))\n",
    "    TN=tf.reduce_sum((1-y_true)*(1-tf.round(y_pred)))\n",
    "    FP=tf.reduce_sum((1-y_true)*tf.round(y_pred))\n",
    "    FN=tf.reduce_sum(y_true*(1-tf.round(y_pred)))\n",
    "    precision=TP/(TP+FP)\n",
    "    return precision\n",
    "#召回率评价指标\n",
    "def metric_recall(y_true,y_pred): \n",
    "    TP=tf.reduce_sum(y_true*tf.round(y_pred))\n",
    "    TN=tf.reduce_sum((1-y_true)*(1-tf.round(y_pred)))\n",
    "    FP=tf.reduce_sum((1-y_true)*tf.round(y_pred))\n",
    "    FN=tf.reduce_sum(y_true*(1-tf.round(y_pred)))\n",
    "    recall=TP/(TP+FN)\n",
    "    return recall\n",
    "\n",
    "#特异性评价指标\n",
    "def metric_specificity(y_true,y_pred): \n",
    "    TN=tf.reduce_sum((1-y_true)*(1-tf.round(y_pred)))\n",
    "    FP=tf.reduce_sum((1-y_true)*tf.round(y_pred))\n",
    "    specificity=TN/(TN+FP)\n",
    "    return specificity\n",
    "\n",
    "#F1-score评价指标\n",
    "def metric_F1score(y_true,y_pred): \n",
    "    TP=tf.reduce_sum(y_true*tf.round(y_pred))\n",
    "    TN=tf.reduce_sum((1-y_true)*(1-tf.round(y_pred)))\n",
    "    FP=tf.reduce_sum((1-y_true)*tf.round(y_pred))\n",
    "    FN=tf.reduce_sum(y_true*(1-tf.round(y_pred)))\n",
    "    precision=TP/(TP+FP)\n",
    "    recall=TP/(TP+FN)\n",
    "    F1score=2*precision*recall/(precision+recall)\n",
    "    return F1score"
   ]
  },
  {
   "cell_type": "markdown",
   "id": "4505cb95",
   "metadata": {},
   "source": [
    "**加载已经训练好的模型**"
   ]
  },
  {
   "cell_type": "code",
   "execution_count": 6,
   "id": "74dd8009",
   "metadata": {},
   "outputs": [],
   "source": [
    "my_model = load_model('my_model_80%.h5',compile = False)\n",
    "my_model.compile(optimizer='rmsprop',\n",
    "              loss='binary_crossentropy',\n",
    "              metrics=['accuracy',\n",
    "            metric_precision,\n",
    "            metric_recall,\n",
    "            metric_specificity,\n",
    "            metric_F1score])"
   ]
  },
  {
   "cell_type": "markdown",
   "id": "71d7603c",
   "metadata": {},
   "source": [
    "**随机测试8次的测试结果**"
   ]
  },
  {
   "cell_type": "code",
   "execution_count": 69,
   "id": "c7a7d026",
   "metadata": {},
   "outputs": [
    {
     "name": "stdout",
     "output_type": "stream",
     "text": [
      "4/4 [==============================] - 0s 2ms/step - loss: 1.4795 - accuracy: 0.9167 - metric_precision: 0.8726 - metric_recall: 0.8816 - metric_specificity: 0.9019 - metric_F1score: 0.8751\n",
      "4/4 [==============================] - 0s 2ms/step - loss: 0.8687 - accuracy: 0.9352 - metric_precision: 0.9199 - metric_recall: 0.9375 - metric_specificity: 0.9500 - metric_F1score: 0.9283\n",
      "4/4 [==============================] - 0s 2ms/step - loss: 1.3483 - accuracy: 0.9074 - metric_precision: 0.8703 - metric_recall: 0.9044 - metric_specificity: 0.9269 - metric_F1score: 0.8867\n",
      "4/4 [==============================] - 0s 1ms/step - loss: 1.1822 - accuracy: 0.9074 - metric_precision: 0.9161 - metric_recall: 0.8905 - metric_specificity: 0.9479 - metric_F1score: 0.9015\n",
      "4/4 [==============================] - 0s 1ms/step - loss: 0.5160 - accuracy: 0.9074 - metric_precision: 0.8906 - metric_recall: 0.8885 - metric_specificity: 0.9233 - metric_F1score: 0.8802\n",
      "4/4 [==============================] - 0s 1ms/step - loss: 1.1373 - accuracy: 0.9259 - metric_precision: 0.8838 - metric_recall: 0.9530 - metric_specificity: 0.9258 - metric_F1score: 0.9157\n",
      "4/4 [==============================] - 0s 1ms/step - loss: 0.8469 - accuracy: 0.9259 - metric_precision: 0.9464 - metric_recall: 0.8661 - metric_specificity: 0.9583 - metric_F1score: 0.9015\n",
      "4/4 [==============================] - 0s 1ms/step - loss: 0.5848 - accuracy: 0.9259 - metric_precision: 0.9402 - metric_recall: 0.8612 - metric_specificity: 0.9603 - metric_F1score: 0.8959\n"
     ]
    }
   ],
   "source": [
    "for i in range(0,8):\n",
    "    _ ,x_test, _ ,y_test = skmodel.train_test_split(pain_data_minmax, pain_data.CLASS,test_size=0.5)\n",
    "    results = my_model.evaluate(x_test,y_test)"
   ]
  },
  {
   "cell_type": "code",
   "execution_count": null,
   "id": "8c91a283",
   "metadata": {},
   "outputs": [],
   "source": []
  }
 ],
 "metadata": {
  "kernelspec": {
   "display_name": "Python 3 (ipykernel)",
   "language": "python",
   "name": "python3"
  },
  "language_info": {
   "codemirror_mode": {
    "name": "ipython",
    "version": 3
   },
   "file_extension": ".py",
   "mimetype": "text/x-python",
   "name": "python",
   "nbconvert_exporter": "python",
   "pygments_lexer": "ipython3",
   "version": "3.9.7"
  }
 },
 "nbformat": 4,
 "nbformat_minor": 5
}
